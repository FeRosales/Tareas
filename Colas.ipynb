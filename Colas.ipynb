{
  "nbformat": 4,
  "nbformat_minor": 0,
  "metadata": {
    "colab": {
      "name": "Colas.ipynb",
      "provenance": [],
      "authorship_tag": "ABX9TyOD1lkApGNO3soW9cdLBG6u",
      "include_colab_link": true
    },
    "kernelspec": {
      "name": "python3",
      "display_name": "Python 3"
    },
    "language_info": {
      "name": "python"
    }
  },
  "cells": [
    {
      "cell_type": "markdown",
      "metadata": {
        "id": "view-in-github",
        "colab_type": "text"
      },
      "source": [
        "<a href=\"https://colab.research.google.com/github/FeRosales/Tareas/blob/main/Colas.ipynb\" target=\"_parent\"><img src=\"https://colab.research.google.com/assets/colab-badge.svg\" alt=\"Open In Colab\"/></a>"
      ]
    },
    {
      "cell_type": "code",
      "metadata": {
        "id": "sqqCiQnurbWT"
      },
      "source": [
        "\n",
        "class QueueADT:\n",
        "    def __init__( self ):\n",
        "        self.data = []\n",
        "    \n",
        "    def is_empty( self ):\n",
        "        return len( self.data ) == 0\n",
        "    \n",
        "    def length( self ):\n",
        "        return len( self.data )\n",
        "    \n",
        "    def enqueue( self, value ):\n",
        "        self.data.append( value )\n",
        "    \n",
        "    def dequeue( self ):\n",
        "        return self.data.pop(0)\n",
        "    \n",
        "    def to_string( self ):\n",
        "        for elem in self.data:\n",
        "            print(f\"|{elem}| <-- \", end= \"\")\n",
        "        print(\"\")"
      ],
      "execution_count": 9,
      "outputs": []
    },
    {
      "cell_type": "code",
      "metadata": {
        "colab": {
          "base_uri": "https://localhost:8080/"
        },
        "id": "WFbOmm4PsBtV",
        "outputId": "c0a68dcc-de1c-42db-e9d5-48c6f8f37620"
      },
      "source": [
        "cola = QueueADT()\n",
        "print( \"Está vacío?: \" , cola.is_empty())\n",
        "print(\" número de elementos = \" , cola.length())\n",
        "cola.enqueue(10)\n",
        "cola.enqueue(20)\n",
        "cola.enqueue(30)\n",
        "print( \"Está vacío?: \" , cola.is_empty())\n",
        "print(\" número de elementos = \" , cola.length())\n",
        "cola.enqueue(40)\n",
        "cola.enqueue(50)\n",
        "cola.enqueue(60)\n",
        "cola.to_string()\n",
        "siguiente = cola.dequeue()\n",
        "print(\" Atendiendo a: \" , siguiente)\n",
        "cola.to_string()"
      ],
      "execution_count": 10,
      "outputs": [
        {
          "output_type": "stream",
          "name": "stdout",
          "text": [
            "Está vacío?:  True\n",
            " número de elementos =  0\n",
            "Está vacío?:  False\n",
            " número de elementos =  3\n",
            "|10| <-- |20| <-- |30| <-- |40| <-- |50| <-- |60| <-- \n",
            " Atendiendo a:  10\n",
            "|20| <-- |30| <-- |40| <-- |50| <-- |60| <-- \n"
          ]
        }
      ]
    },
    {
      "cell_type": "markdown",
      "metadata": {
        "id": "vYECga-BsKjz"
      },
      "source": [
        "Tarea."
      ]
    },
    {
      "cell_type": "code",
      "metadata": {
        "id": "Pf2_B8zGsD63"
      },
      "source": [
        "class PrioridadQueueADT:\n",
        "\n",
        "    def __init__( self ):\n",
        "        self.data = []\n",
        "    \n",
        "    def is_empty( self ):\n",
        "        return len( self.data ) == 0\n",
        "    \n",
        "    def length( self ):\n",
        "        return len( self.data )\n",
        "\n",
        "    def enqueue( self, value ):\n",
        "        dato = (value)\n",
        "        conta = -1\n",
        "        continuar = True\n",
        "\n",
        "        if self.is_empty():\n",
        "            self.data.append( dato )\n",
        "\n",
        "        else: \n",
        "            while continuar:\n",
        "                conta += 1\n",
        "                \n",
        "                if conta == self.length(): \n",
        "                    continuar = False\n",
        "\n",
        "                elif dato[0] < self.data[conta][0]: \n",
        "                    continuar = False\n",
        "\n",
        "            self.data.insert(conta, dato)\n",
        "\n",
        "    def dequeue( self ):\n",
        "        return self.data.pop(0)\n",
        "    \n",
        "    def to_string( self ):\n",
        "        for elem in self.data:\n",
        "            print(f\"|{elem}| <-- \", end= \"\")\n",
        "        print(\"\")"
      ],
      "execution_count": 11,
      "outputs": []
    },
    {
      "cell_type": "code",
      "metadata": {
        "colab": {
          "base_uri": "https://localhost:8080/",
          "height": 386
        },
        "id": "INjfBopcsEBm",
        "outputId": "16ceddb7-158b-434b-8e67-0453fdc412ce"
      },
      "source": [
        "cola = PrioridadQueueADT()\n",
        "\n",
        "print( \"Cola con Prioridad No Acotada: \")\n",
        "cola.enqueue(4)\n",
        "cola.to_string()\n",
        "cola.enqueue(2)\n",
        "cola.to_string()\n",
        "cola.enqueue(5)\n",
        "cola.to_string()\n",
        "cola.enqueue(4)\n",
        "cola.to_string()\n",
        "cola.enqueue(4)\n",
        "cola.to_string()\n",
        "cola.enqueue(4)\n",
        "cola.to_string()\n",
        "cola.enqueue(2)\n",
        "cola.to_string()\n",
        "cola.enqueue(3)\n",
        "cola.to_string()\n",
        "cola.enqueue(1)\n",
        "cola.to_string()\n",
        "cola.enqueue(3)\n",
        "cola.to_string()\n",
        "cola.to_string()\n",
        "print(\"¿Está vacío? \", cola.is_empty())\n",
        "print(\"Numero de elementos:\", cola.length())\n",
        "siguiente = cola.dequeue()\n",
        "print(\"Proximo evacuado: \", siguiente)\n",
        "siguiente = cola.dequeue()\n",
        "print(\"Proximo evacuado: \", siguiente)\n",
        "siguiente = cola.dequeue()\n",
        "print(\"Proximo evacuado: \", siguiente)\n",
        "siguiente = cola.dequeue()\n",
        "print(\"Proximo evacuado: \", siguiente)\n",
        "siguiente = cola.dequeue()\n",
        "print(\"Proximo evacuado: \", siguiente)\n",
        "\n",
        "print(\"En espera: \")\n",
        "cola.to_string()\n"
      ],
      "execution_count": 14,
      "outputs": [
        {
          "output_type": "stream",
          "name": "stdout",
          "text": [
            "Cola con Prioridad No Acotada: \n",
            "|4| <-- \n"
          ]
        },
        {
          "output_type": "error",
          "ename": "TypeError",
          "evalue": "ignored",
          "traceback": [
            "\u001b[0;31m---------------------------------------------------------------------------\u001b[0m",
            "\u001b[0;31mTypeError\u001b[0m                                 Traceback (most recent call last)",
            "\u001b[0;32m<ipython-input-14-d000c97bc9a8>\u001b[0m in \u001b[0;36m<module>\u001b[0;34m()\u001b[0m\n\u001b[1;32m      4\u001b[0m \u001b[0mcola\u001b[0m\u001b[0;34m.\u001b[0m\u001b[0menqueue\u001b[0m\u001b[0;34m(\u001b[0m\u001b[0;36m4\u001b[0m\u001b[0;34m)\u001b[0m\u001b[0;34m\u001b[0m\u001b[0;34m\u001b[0m\u001b[0m\n\u001b[1;32m      5\u001b[0m \u001b[0mcola\u001b[0m\u001b[0;34m.\u001b[0m\u001b[0mto_string\u001b[0m\u001b[0;34m(\u001b[0m\u001b[0;34m)\u001b[0m\u001b[0;34m\u001b[0m\u001b[0;34m\u001b[0m\u001b[0m\n\u001b[0;32m----> 6\u001b[0;31m \u001b[0mcola\u001b[0m\u001b[0;34m.\u001b[0m\u001b[0menqueue\u001b[0m\u001b[0;34m(\u001b[0m\u001b[0;36m2\u001b[0m\u001b[0;34m)\u001b[0m\u001b[0;34m\u001b[0m\u001b[0;34m\u001b[0m\u001b[0m\n\u001b[0m\u001b[1;32m      7\u001b[0m \u001b[0mcola\u001b[0m\u001b[0;34m.\u001b[0m\u001b[0mto_string\u001b[0m\u001b[0;34m(\u001b[0m\u001b[0;34m)\u001b[0m\u001b[0;34m\u001b[0m\u001b[0;34m\u001b[0m\u001b[0m\n\u001b[1;32m      8\u001b[0m \u001b[0mcola\u001b[0m\u001b[0;34m.\u001b[0m\u001b[0menqueue\u001b[0m\u001b[0;34m(\u001b[0m\u001b[0;36m5\u001b[0m\u001b[0;34m)\u001b[0m\u001b[0;34m\u001b[0m\u001b[0;34m\u001b[0m\u001b[0m\n",
            "\u001b[0;32m<ipython-input-11-2c616c05efe8>\u001b[0m in \u001b[0;36menqueue\u001b[0;34m(self, value)\u001b[0m\n\u001b[1;32m     25\u001b[0m                     \u001b[0mcontinuar\u001b[0m \u001b[0;34m=\u001b[0m \u001b[0;32mFalse\u001b[0m\u001b[0;34m\u001b[0m\u001b[0;34m\u001b[0m\u001b[0m\n\u001b[1;32m     26\u001b[0m \u001b[0;34m\u001b[0m\u001b[0m\n\u001b[0;32m---> 27\u001b[0;31m                 \u001b[0;32melif\u001b[0m \u001b[0mdato\u001b[0m\u001b[0;34m[\u001b[0m\u001b[0;36m0\u001b[0m\u001b[0;34m]\u001b[0m \u001b[0;34m<\u001b[0m \u001b[0mself\u001b[0m\u001b[0;34m.\u001b[0m\u001b[0mdata\u001b[0m\u001b[0;34m[\u001b[0m\u001b[0mconta\u001b[0m\u001b[0;34m]\u001b[0m\u001b[0;34m[\u001b[0m\u001b[0;36m0\u001b[0m\u001b[0;34m]\u001b[0m\u001b[0;34m:\u001b[0m\u001b[0;34m\u001b[0m\u001b[0;34m\u001b[0m\u001b[0m\n\u001b[0m\u001b[1;32m     28\u001b[0m                     \u001b[0mcontinuar\u001b[0m \u001b[0;34m=\u001b[0m \u001b[0;32mFalse\u001b[0m\u001b[0;34m\u001b[0m\u001b[0;34m\u001b[0m\u001b[0m\n\u001b[1;32m     29\u001b[0m \u001b[0;34m\u001b[0m\u001b[0m\n",
            "\u001b[0;31mTypeError\u001b[0m: 'int' object is not subscriptable"
          ]
        }
      ]
    },
    {
      "cell_type": "code",
      "metadata": {
        "id": "AhYu9rsUst_f"
      },
      "source": [
        "class AcotadaPriorityQueueADT: \n",
        "    def __init__( self, niveles ):\n",
        "        self.data = [QueueADT() for x in range(niveles) ]\n",
        "        self.size = 0\n",
        "        self.niveles = niveles\n",
        "\n",
        "    def is_empty( self ):\n",
        "        if self.size == 0:\n",
        "            return True\n",
        "        else:\n",
        "            return False\n",
        "\n",
        "    def length( self ):\n",
        "        return self.size\n",
        "\n",
        "    def enqueue( self, value ):\n",
        "        if value < 0 or value > self.niveles:\n",
        "            print(f\"Ingrese una prioridad entre 1 y {self.niveles}\")\n",
        "        else:\n",
        "            self.data[value - 1].enqueue( value )\n",
        "            self.size += 1\n",
        "\n",
        "    def dequeue( self ):\n",
        "        if self.size != 0:\n",
        "\n",
        "            i = 0\n",
        "            while self.data[i].is_empty():  \n",
        "                i += 1\n",
        "            \n",
        "            self.size -= 1\n",
        "            return self.data[i].dequeue()\n",
        "            \n",
        "        else:\n",
        "            print(\"Cola vacía\")\n",
        "\n",
        "    \n",
        "    def to_string( self ):\n",
        "        for i in range(self.niveles):\n",
        "            print(f\"Prioridad {i + 1}: \",end = \"\")\n",
        "            self.data[i].to_string()"
      ],
      "execution_count": 5,
      "outputs": []
    },
    {
      "cell_type": "code",
      "metadata": {
        "colab": {
          "base_uri": "https://localhost:8080/"
        },
        "id": "W6EIAYgjs4A5",
        "outputId": "4dff1efc-257b-4378-fe43-a8ef749918f7"
      },
      "source": [
        "ac = AcotadaPriorityQueueADT( 5 )\n",
        "\n",
        "ac.enqueue(4)\n",
        "ac.enqueue(2)\n",
        "ac.enqueue(5)\n",
        "ac.enqueue(4)\n",
        "ac.enqueue(4)\n",
        "ac.enqueue(4)\n",
        "ac.enqueue(2)\n",
        "ac.enqueue(3)\n",
        "ac.enqueue(1)\n",
        "ac.enqueue(3,)\n",
        "ac.to_string()\n",
        "\n",
        "\n",
        "print(\"Evacuando...\")\n",
        "print(\"Evacuando:\",ac.dequeue())\n",
        "print(\"Evacuando:\",ac.dequeue())\n",
        "print(\"Evacuando:\",ac.dequeue())\n",
        "print(\"Evacuando:\",ac.dequeue())\n",
        "print(\"Evacuando:\",ac.dequeue())\n",
        "\n",
        "print(\"Personas esperando evacuación: \")\n",
        "ac.to_string()\n",
        "\n",
        "print(\"¿Está vacía? =\", ac.is_empty() )\n",
        "print(\"Numero de elementos:\", ac.length())"
      ],
      "execution_count": 6,
      "outputs": [
        {
          "output_type": "stream",
          "name": "stdout",
          "text": [
            "Prioridad 1: |1| <-- \n",
            "Prioridad 2: |2| <-- |2| <-- \n",
            "Prioridad 3: |3| <-- |3| <-- \n",
            "Prioridad 4: |4| <-- |4| <-- |4| <-- |4| <-- \n",
            "Prioridad 5: |5| <-- \n",
            "Evacuando...\n",
            "Evacuando: 1\n",
            "Evacuando: 2\n",
            "Evacuando: 2\n",
            "Evacuando: 3\n",
            "Evacuando: 3\n",
            "Personas esperando evacuación: \n",
            "Prioridad 1: \n",
            "Prioridad 2: \n",
            "Prioridad 3: \n",
            "Prioridad 4: |4| <-- |4| <-- |4| <-- |4| <-- \n",
            "Prioridad 5: |5| <-- \n",
            "¿Está vacía? = False\n",
            "Numero de elementos: 5\n"
          ]
        }
      ]
    }
  ]
}