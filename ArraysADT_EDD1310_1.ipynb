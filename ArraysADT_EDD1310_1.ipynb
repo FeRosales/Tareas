{
  "nbformat": 4,
  "nbformat_minor": 0,
  "metadata": {
    "colab": {
      "name": "ArraysADT_EDD1310_1.ipynb",
      "provenance": [],
      "authorship_tag": "ABX9TyMu/gitfFmN0xcpQ+/cjRDf",
      "include_colab_link": true
    },
    "kernelspec": {
      "name": "python3",
      "display_name": "Python 3"
    },
    "language_info": {
      "name": "python"
    }
  },
  "cells": [
    {
      "cell_type": "markdown",
      "metadata": {
        "id": "view-in-github",
        "colab_type": "text"
      },
      "source": [
        "<a href=\"https://colab.research.google.com/github/FeRosales/Tareas/blob/main/ArraysADT_EDD1310_1.ipynb\" target=\"_parent\"><img src=\"https://colab.research.google.com/assets/colab-badge.svg\" alt=\"Open In Colab\"/></a>"
      ]
    },
    {
      "cell_type": "code",
      "metadata": {
        "colab": {
          "base_uri": "https://localhost:8080/"
        },
        "id": "pEDKczUzmF8r",
        "outputId": "6cf921a3-5dfc-4e13-e49d-1a61841af1db"
      },
      "source": [
        "class Array:\n",
        "    def __init__(self , tam ):\n",
        "        self.__tamanio = tam\n",
        "        self.__data = [ 0 for x in range(self.__tamanio) ]\n",
        "\n",
        "    def to_string( self ):\n",
        "        info = \"\"\n",
        "        for dato in self.__data:\n",
        "            info = info + str(dato) +\"|\"\n",
        "        return info\n",
        "\n",
        "    def get_item ( self , index ):\n",
        "        return self.__data[index]\n",
        "    \n",
        "    def get_length( self ):\n",
        "        return len( self.__data)\n",
        "    \n",
        "    def set_item( self , dato , index):\n",
        "        #hace falta revisar limites\n",
        "        if index >= 0 and index < self.get_length():\n",
        "            self.__data[index] = dato\n",
        "        else:\n",
        "            print(\"Error: indice fuera de rango\")\n",
        "    \n",
        "\n",
        "    def clear ( self , dato ):\n",
        "        self.__data = [ dato for x in range(self.__tamanio) ]\n",
        "\n",
        "ejemplo = Array(20)\n",
        "print( ejemplo.to_string() )\n",
        "print( ejemplo.get_item(2) )\n",
        "ejemplo.set_item( 45 , 2 )\n",
        "print(ejemplo.to_string() )\n",
        "ejemplo.clear( 4 )\n",
        "print( ejemplo.to_string() )\n",
        "print(ejemplo.get_length() )"
      ],
      "execution_count": 1,
      "outputs": [
        {
          "output_type": "stream",
          "name": "stdout",
          "text": [
            "0|0|0|0|0|0|0|0|0|0|0|0|0|0|0|0|0|0|0|0|\n",
            "0\n",
            "0|0|45|0|0|0|0|0|0|0|0|0|0|0|0|0|0|0|0|0|\n",
            "4|4|4|4|4|4|4|4|4|4|4|4|4|4|4|4|4|4|4|4|\n",
            "20\n"
          ]
        }
      ]
    },
    {
      "cell_type": "code",
      "metadata": {
        "colab": {
          "base_uri": "https://localhost:8080/"
        },
        "id": "jTzFT3jlmNEd",
        "outputId": "da6f4993-dcc1-4d86-e0ee-9cafe4475ec5"
      },
      "source": [
        "lista = [3 * x for x in range(10)]\n",
        "print(lista)"
      ],
      "execution_count": 2,
      "outputs": [
        {
          "output_type": "stream",
          "name": "stdout",
          "text": [
            "[0, 3, 6, 9, 12, 15, 18, 21, 24, 27]\n"
          ]
        }
      ]
    },
    {
      "cell_type": "code",
      "metadata": {
        "colab": {
          "base_uri": "https://localhost:8080/"
        },
        "id": "6-tmlD2imVfn",
        "outputId": "dec261bf-84f4-4c5a-f024-a29e9c58c2b4"
      },
      "source": [
        "!ls -la"
      ],
      "execution_count": 4,
      "outputs": [
        {
          "output_type": "stream",
          "name": "stdout",
          "text": [
            "total 16\n",
            "drwxr-xr-x 1 root root 4096 Oct  8 13:45 .\n",
            "drwxr-xr-x 1 root root 4096 Oct 14 06:55 ..\n",
            "drwxr-xr-x 4 root root 4096 Oct  8 13:44 .config\n",
            "drwxr-xr-x 1 root root 4096 Oct  8 13:45 sample_data\n"
          ]
        }
      ]
    },
    {
      "cell_type": "code",
      "metadata": {
        "colab": {
          "base_uri": "https://localhost:8080/"
        },
        "id": "N20cxPTbm9ae",
        "outputId": "a17e3711-442a-4b01-a6c3-3d00df68d7ec"
      },
      "source": [
        "!cat junio.dat"
      ],
      "execution_count": 15,
      "outputs": [
        {
          "output_type": "stream",
          "name": "stdout",
          "text": [
            "numero de trabajador, nombres, paterno, materno, horas extra, sueldo base, año de ingreso\r\n",
            "2345,CARLOS,PEREZ,CASTILLO,0,9850,2017\r\n",
            "5754,ANGEL,GOMEZ,GARRIDO,1,9850,2020\r\n",
            "5345,JESUS,MARTIN,SANTOS,2,9850,2016\r\n",
            "3267,DAVID,JIMENEZ,LOZANO,2,9850,2017\r\n",
            "8765,PEDRO,RUIZ,GUERRERO,2,9850,2017\r\n",
            "5454,DANIEL,HERNANDEZ,CANO,3,9850,2018\r\n",
            "3456,ALEJANDRO,DIAZ,PRIETO,2,9850,2018\r\n",
            "3445,MARIA,MORENO,MENDEZ,1,9850,2018\r\n",
            "9088,ALBERTO,MU�OZ,CRUZ,1,9850,2017\r\n",
            "8877,RAFAEL,ALVAREZ,FLORES,2,9850,2017\r\n",
            "6767,FERNANDO,ROMERO,HERRERA,4,9850,2019\r\n",
            "5654,PABLO,ALONSO,GALLEGO,1,9850,2019\r\n",
            "4323,JORGE,GUTIERREZ,MARQUEZ,2,9850,2020\r\n",
            "2232,RAMON,NAVARRO,LEON,1,9850,2016"
          ]
        }
      ]
    },
    {
      "cell_type": "code",
      "metadata": {
        "colab": {
          "base_uri": "https://localhost:8080/"
        },
        "id": "IYyPGS-fvshW",
        "outputId": "28cbc611-8f97-4a85-afdd-8a16797965d0"
      },
      "source": [
        "archivo = open('junio.dat', 'rt', encoding='latin-1')\n",
        "print(archivo.readlines())"
      ],
      "execution_count": 16,
      "outputs": [
        {
          "output_type": "stream",
          "name": "stdout",
          "text": [
            "['numero de trabajador, nombres, paterno, materno, horas extra, sueldo base, aÃ±o de ingreso\\n', '2345,CARLOS,PEREZ,CASTILLO,0,9850,2017\\n', '5754,ANGEL,GOMEZ,GARRIDO,1,9850,2020\\n', '5345,JESUS,MARTIN,SANTOS,2,9850,2016\\n', '3267,DAVID,JIMENEZ,LOZANO,2,9850,2017\\n', '8765,PEDRO,RUIZ,GUERRERO,2,9850,2017\\n', '5454,DANIEL,HERNANDEZ,CANO,3,9850,2018\\n', '3456,ALEJANDRO,DIAZ,PRIETO,2,9850,2018\\n', '3445,MARIA,MORENO,MENDEZ,1,9850,2018\\n', '9088,ALBERTO,MU\\x84OZ,CRUZ,1,9850,2017\\n', '8877,RAFAEL,ALVAREZ,FLORES,2,9850,2017\\n', '6767,FERNANDO,ROMERO,HERRERA,4,9850,2019\\n', '5654,PABLO,ALONSO,GALLEGO,1,9850,2019\\n', '4323,JORGE,GUTIERREZ,MARQUEZ,2,9850,2020\\n', '2232,RAMON,NAVARRO,LEON,1,9850,2016']\n"
          ]
        }
      ]
    },
    {
      "cell_type": "code",
      "metadata": {
        "colab": {
          "base_uri": "https://localhost:8080/"
        },
        "id": "GiPl1Ik8weBN",
        "outputId": "78bf11d3-3c74-48cf-b5c1-3113eabb3a33"
      },
      "source": [
        "class Trabajador:\n",
        "    def __init__ ( self, nt, nom, pat, mat, he, sb, ai ):\n",
        "      self.__numero_trabajador = nt\n",
        "      self.__nombre = nom\n",
        "      self.__paterno = pat\n",
        "      self.__materno = mat\n",
        "      self.__horas_extra = he\n",
        "      self.__sueldo_base = sb\n",
        "      self.__anio_ingreso = ai \n",
        "      #Así para todos los atributos\n",
        "    #Métodos de acceso\n",
        "    def set_numero_trabajador( self , nt ):\n",
        "        self.__numero_trabajador = nt \n",
        "   \n",
        "    def get_numero_trabajador( self ):\n",
        "        return self.__numero_trabajador\n",
        "    \n",
        "    def set_nombre( self , nom ):\n",
        "        self.__nombre = nom \n",
        "   \n",
        "    def get_nombre( self ):\n",
        "        return self.__nombre\n",
        "    \n",
        "    def set_paterno( self , pat ):\n",
        "        self.__paterno = pat \n",
        "   \n",
        "    def get_paterno( self ):\n",
        "        return self.__paterno\n",
        "  \n",
        "    def set_materno( self , mat ):\n",
        "        self.__materno = mat \n",
        "   \n",
        "    def get_materno( self ):\n",
        "        return self.__materno\n",
        "\n",
        "    def set_horas_extra( self , he ):\n",
        "        self.__horas_extra = he \n",
        "   \n",
        "    def get_horas_extra( self ):\n",
        "        return self.__horas_extra\n",
        "\n",
        "    def set_sueldo_base( self , sb ):\n",
        "        self.__sueldo_base = sb \n",
        "    \n",
        "    def get_sueldo_base( self ):\n",
        "        return self.__sueldo_base\n",
        "\n",
        "    def set_nombre( self , nom ):\n",
        "        self.__nombre = nt \n",
        "    def get_nombre( self ):\n",
        "        return self.__nombre\n",
        "\n",
        "    def set_anio_ingreso( self , ai ):\n",
        "        self.__anio_ingreso = ai \n",
        "    def get_anio_ingreso( self ):\n",
        "        return self.__anio_ingreso\n",
        " # métodos de uso general --> Métodos que hacen cálculos de la lógica\n",
        "\n",
        "    def calcular_sueldo_mensual( self ):\n",
        "        anios = 2021 - self.get_anio_ingreso()\n",
        "\n",
        "        sueldo = self.get_sueldo_base()\n",
        "        # Agregarle horas extra\n",
        "\n",
        "        sueldo += self.get_horas_extra() * 276.5\n",
        "         #Agregar prestación por antiguedad\n",
        "        sueldo = sueldo + ( sueldo * anios * 0.03 )\n",
        "        return sueldo\n",
        "    def to_string( self ):\n",
        "        return \"Nombre: \" + self.__nombre + \" Sueldo: $\"+ str(self.calcular_sueldo_mensual())\n",
        "        \n",
        "    def calcular_antiguedad( self ):\n",
        "        return 2021 - self.get_anio_ingreso()\n",
        "\n",
        "emp = Trabajador( 2345, 'CARLOS', 'PEREZ' , 'CASTILLO' ,1 , 9850, 2017 )\n",
        "print(emp.get_sueldo_base())\n",
        "print(emp.get_horas_extra())\n",
        "print(emp.calcular_antiguedad())\n",
        "print(emp.to_string())\n",
        "9850"
      ],
      "execution_count": 17,
      "outputs": [
        {
          "output_type": "stream",
          "name": "stdout",
          "text": [
            "9850\n",
            "1\n",
            "4\n",
            "Nombre: CARLOS Sueldo: $11341.68\n"
          ]
        },
        {
          "output_type": "execute_result",
          "data": {
            "text/plain": [
              "9850"
            ]
          },
          "metadata": {},
          "execution_count": 17
        }
      ]
    },
    {
      "cell_type": "code",
      "metadata": {
        "colab": {
          "base_uri": "https://localhost:8080/"
        },
        "id": "Ez_0iGjZwtJY",
        "outputId": "bad47ee3-3286-4c10-f119-d20d5a734608"
      },
      "source": [
        "class NominaADT:\n",
        "    def __init__( self , ruta_archivo ):\n",
        "        #abrir el archivo y determinar el numero de empleados --> num_emp\n",
        "        archivo = open( ruta_archivo, 'rt', encoding='latin-1')\n",
        "        empleados = archivo.readlines()\n",
        "        del empleados [0]\n",
        "        for index in range(len(empleados)):\n",
        "            empleados[index] = empleados[ index].strip().split(',')\n",
        "        self.__data=Array( len (empleados) )\n",
        "        cont = 0\n",
        "        for emp in empleados: \n",
        "            tmp = Trabajador( int(emp[0]), emp[ 1], emp[2], emp[3], int(emp[4]), int(emp[5]), int(emp[6]))\n",
        "            self.__data.set_item( tmp, cont )\n",
        "            cont += 1\n",
        "\n",
        "\n",
        "\n",
        "    def buscar_mas_antiguo( self ):\n",
        "        #iterar y buscar en el array el de mayor antiguedad\n",
        "        pass\n",
        "    def buscar_menor_antiguedad( self ):\n",
        "        # idem\n",
        "        pass\n",
        "    \n",
        "    def calcular_sueldos( self ):\n",
        "        for index in range(self.__data.get_length()):\n",
        "            print( self.__data.get_item(index).to_string() )\n",
        "    \n",
        "ejemplo = NominaADT('junio.dat')\n",
        "ejemplo.calcular_sueldos()"
      ],
      "execution_count": 18,
      "outputs": [
        {
          "output_type": "stream",
          "name": "stdout",
          "text": [
            "Nombre: CARLOS Sueldo: $11032.0\n",
            "Nombre: ANGEL Sueldo: $10430.295\n",
            "Nombre: JESUS Sueldo: $11963.45\n",
            "Nombre: DAVID Sueldo: $11651.36\n",
            "Nombre: PEDRO Sueldo: $11651.36\n",
            "Nombre: DANIEL Sueldo: $11640.655\n",
            "Nombre: ALEJANDRO Sueldo: $11339.27\n",
            "Nombre: MARIA Sueldo: $11037.885\n",
            "Nombre: ALBERTO Sueldo: $11341.68\n",
            "Nombre: RAFAEL Sueldo: $11651.36\n",
            "Nombre: FERNANDO Sueldo: $11613.36\n",
            "Nombre: PABLO Sueldo: $10734.09\n",
            "Nombre: JORGE Sueldo: $10715.09\n",
            "Nombre: RAMON Sueldo: $11645.475\n"
          ]
        }
      ]
    }
  ]
}