{
  "nbformat": 4,
  "nbformat_minor": 0,
  "metadata": {
    "colab": {
      "name": "árboles.ipynb",
      "provenance": [],
      "authorship_tag": "ABX9TyMrX+DRwSxdq0DWrc3OPbsO",
      "include_colab_link": true
    },
    "kernelspec": {
      "name": "python3",
      "display_name": "Python 3"
    },
    "language_info": {
      "name": "python"
    }
  },
  "cells": [
    {
      "cell_type": "markdown",
      "metadata": {
        "id": "view-in-github",
        "colab_type": "text"
      },
      "source": [
        "<a href=\"https://colab.research.google.com/github/FeRosales/Tareas/blob/main/%C3%A1rboles.ipynb\" target=\"_parent\"><img src=\"https://colab.research.google.com/assets/colab-badge.svg\" alt=\"Open In Colab\"/></a>"
      ]
    },
    {
      "cell_type": "code",
      "metadata": {
        "id": "Aj1Vs5pjztzr"
      },
      "source": [
        "class NodoBinario:\n",
        "    def __init__( self, value, left=None, rigth=None ):\n",
        "        self.data = value\n",
        "        self.left = left\n",
        "        self.rigth = rigth\n",
        "\n",
        "class NodoTernario:\n",
        "    def __init__( self, value, left=None, center=None, rigth=None ):\n",
        "        self.data = value\n",
        "        self.left = left\n",
        "        self.center = center\n",
        "        self.rigth = rigth"
      ],
      "execution_count": 1,
      "outputs": []
    },
    {
      "cell_type": "code",
      "metadata": {
        "colab": {
          "base_uri": "https://localhost:8080/"
        },
        "id": "fXM15AkT0CC2",
        "outputId": "90951e17-aaac-414c-fd39-b5994973d312"
      },
      "source": [
        "arbol1 = NodoBinario(\"R\", NodoBinario(\"C\"), NodoBinario(\"H\"))\n",
        "print(arbol1.rigth.data)\n",
        "\n",
        "arbol2 = NodoTernario(4, NodoTernario(3,NodoTernario(5,left=NodoTernario(2)),NodoTernario(5), NodoTernario(2)), None, NodoTernario(5) )\n",
        "print(arbol2.left.rigth.data)\n",
        "print(arbol2.data)\n",
        "print(arbol2.left.center.data)\n",
        "print(arbol2.rigth.left)"
      ],
      "execution_count": 2,
      "outputs": [
        {
          "output_type": "stream",
          "name": "stdout",
          "text": [
            "H\n",
            "2\n",
            "4\n",
            "5\n",
            "None\n"
          ]
        }
      ]
    },
    {
      "cell_type": "code",
      "metadata": {
        "colab": {
          "base_uri": "https://localhost:8080/"
        },
        "id": "jF7oJU5H0VfB",
        "outputId": "93ac3eed-c46b-4e16-d685-e75b6e790112"
      },
      "source": [
        "root = NodoBinario(\"Santi\",None,NodoBinario(\"Jesus\",NodoBinario(\"Pedro\", None, NodoBinario(\"Pedro jr\"))))\n",
        "print(root.rigth.left.rigth.data)"
      ],
      "execution_count": 3,
      "outputs": [
        {
          "output_type": "stream",
          "name": "stdout",
          "text": [
            "Pedro jr\n"
          ]
        }
      ]
    }
  ]
}